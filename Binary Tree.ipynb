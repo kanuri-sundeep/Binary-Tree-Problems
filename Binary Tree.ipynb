{
 "cells": [
  {
   "cell_type": "code",
   "execution_count": 1,
   "metadata": {},
   "outputs": [],
   "source": [
    "class Node: \n",
    "    def __init__(self,key): \n",
    "        self.left = None\n",
    "        self.right = None\n",
    "        self.val = key   "
   ]
  },
  {
   "cell_type": "code",
   "execution_count": 2,
   "metadata": {},
   "outputs": [],
   "source": [
    "def insert(root,node): \n",
    "    if root is None: \n",
    "        root = node \n",
    "    else: \n",
    "        if root.val < node.val: \n",
    "            if root.right is None: \n",
    "                root.right = node \n",
    "            else: \n",
    "                insert(root.right, node) \n",
    "        else: \n",
    "            if root.left is None: \n",
    "                root.left = node \n",
    "            else: \n",
    "                insert(root.left, node) "
   ]
  },
  {
   "cell_type": "code",
   "execution_count": 3,
   "metadata": {},
   "outputs": [],
   "source": [
    "r = Node(50) \n",
    "insert(r,Node(30)) \n",
    "insert(r,Node(20)) \n",
    "insert(r,Node(40)) \n",
    "insert(r,Node(70)) \n",
    "insert(r,Node(75)) \n",
    "insert(r,Node(60)) \n",
    "insert(r,Node(80)) \n",
    "insert(r,Node(10)) \n",
    "insert(r,Node(5)) \n",
    "insert(r,Node(6))\n",
    "insert(r,Node(35)) \n",
    "insert(r,Node(90)) \n",
    "insert(r,Node(1)) \n",
    "insert(r,Node(89)) "
   ]
  },
  {
   "cell_type": "markdown",
   "metadata": {},
   "source": [
    "# Inorder Traversal\n",
    "## Left--root--right"
   ]
  },
  {
   "cell_type": "markdown",
   "metadata": {},
   "source": [
    "Inorder Recursion"
   ]
  },
  {
   "cell_type": "code",
   "execution_count": 4,
   "metadata": {},
   "outputs": [],
   "source": [
    "def In_rec(root):\n",
    "    if root:\n",
    "        In_rec(root.left)\n",
    "        print(root.val)\n",
    "        In_rec(root.right)"
   ]
  },
  {
   "cell_type": "code",
   "execution_count": 6,
   "metadata": {},
   "outputs": [
    {
     "name": "stdout",
     "output_type": "stream",
     "text": [
      "1\n",
      "5\n",
      "6\n",
      "10\n",
      "20\n",
      "30\n",
      "35\n",
      "40\n",
      "50\n",
      "60\n",
      "70\n",
      "80\n",
      "90\n"
     ]
    }
   ],
   "source": [
    "In_rec(r)"
   ]
  },
  {
   "cell_type": "markdown",
   "metadata": {},
   "source": [
    "Inorder Iterative"
   ]
  },
  {
   "cell_type": "code",
   "execution_count": 13,
   "metadata": {},
   "outputs": [],
   "source": [
    "def In_iter(root):\n",
    "    stk = []\n",
    "    while True:\n",
    "        while root:\n",
    "            stk.append(root)\n",
    "            root = root.left\n",
    "        if not stk:\n",
    "            return \n",
    "        root = stk.pop()\n",
    "        print(root.val)\n",
    "        root = root.right"
   ]
  },
  {
   "cell_type": "code",
   "execution_count": 14,
   "metadata": {},
   "outputs": [
    {
     "name": "stdout",
     "output_type": "stream",
     "text": [
      "2\n",
      "2\n",
      "3\n",
      "5\n",
      "8\n",
      "10\n"
     ]
    }
   ],
   "source": [
    "In_iter(r)"
   ]
  },
  {
   "cell_type": "markdown",
   "metadata": {},
   "source": [
    "# Preorder Traversal\n",
    "## Root--left--right"
   ]
  },
  {
   "cell_type": "markdown",
   "metadata": {},
   "source": [
    "Preorder Recursion"
   ]
  },
  {
   "cell_type": "code",
   "execution_count": 8,
   "metadata": {},
   "outputs": [],
   "source": [
    "def Pre_rec(root):\n",
    "    if root:\n",
    "        print(root.val)\n",
    "        Pre_rec(root.left)\n",
    "        Pre_rec(root.right)"
   ]
  },
  {
   "cell_type": "code",
   "execution_count": 10,
   "metadata": {},
   "outputs": [
    {
     "name": "stdout",
     "output_type": "stream",
     "text": [
      "50\n",
      "30\n",
      "20\n",
      "10\n",
      "5\n",
      "1\n",
      "6\n",
      "40\n",
      "35\n",
      "70\n",
      "60\n",
      "80\n",
      "90\n"
     ]
    }
   ],
   "source": [
    "Pre_rec(r)"
   ]
  },
  {
   "cell_type": "markdown",
   "metadata": {},
   "source": [
    "Preorder Iterative"
   ]
  },
  {
   "cell_type": "code",
   "execution_count": 15,
   "metadata": {},
   "outputs": [],
   "source": [
    "def Pre_iter(root):\n",
    "    stk = []\n",
    "    while True:\n",
    "        while root:\n",
    "            print(root.val)\n",
    "            stk.append(root)\n",
    "            root = root.left\n",
    "        if not stk:\n",
    "            return\n",
    "        root = stk.pop()\n",
    "        root = root.right"
   ]
  },
  {
   "cell_type": "code",
   "execution_count": 16,
   "metadata": {},
   "outputs": [
    {
     "name": "stdout",
     "output_type": "stream",
     "text": [
      "50\n",
      "30\n",
      "20\n",
      "10\n",
      "5\n",
      "1\n",
      "6\n",
      "40\n",
      "35\n",
      "70\n",
      "60\n",
      "80\n",
      "90\n"
     ]
    }
   ],
   "source": [
    "Pre_iter(r)"
   ]
  },
  {
   "cell_type": "markdown",
   "metadata": {},
   "source": [
    "# Post Order Traversal\n",
    "## Left--root--right"
   ]
  },
  {
   "cell_type": "markdown",
   "metadata": {},
   "source": [
    "Post Order Recursive"
   ]
  },
  {
   "cell_type": "code",
   "execution_count": 18,
   "metadata": {},
   "outputs": [],
   "source": [
    "def post_rec(root):\n",
    "    if root:\n",
    "        post_rec(root.left)\n",
    "        post_rec(root.right)\n",
    "        print(root.val)"
   ]
  },
  {
   "cell_type": "code",
   "execution_count": 19,
   "metadata": {},
   "outputs": [
    {
     "name": "stdout",
     "output_type": "stream",
     "text": [
      "1\n",
      "6\n",
      "5\n",
      "10\n",
      "20\n",
      "35\n",
      "40\n",
      "30\n",
      "60\n",
      "90\n",
      "80\n",
      "70\n",
      "50\n"
     ]
    }
   ],
   "source": [
    "post_rec(r)"
   ]
  },
  {
   "cell_type": "markdown",
   "metadata": {},
   "source": [
    "Post Order Iterative"
   ]
  },
  {
   "cell_type": "code",
   "execution_count": 26,
   "metadata": {},
   "outputs": [],
   "source": [
    "def post_iter(root):\n",
    "    stk = []\n",
    "    while True:\n",
    "        while root:\n",
    "            if root.right:\n",
    "                stk.append(root.right)\n",
    "            stk.append(root)\n",
    "            root = root.left\n",
    "        root = stk.pop()\n",
    "        if not stk:\n",
    "            print(root.val)\n",
    "            return\n",
    "        if root.right and stk[-1] == root.right:\n",
    "            stk.pop()\n",
    "            stk.append(root)\n",
    "            root = root.right\n",
    "        else:\n",
    "            print(root.val)\n",
    "            root = None"
   ]
  },
  {
   "cell_type": "code",
   "execution_count": 27,
   "metadata": {},
   "outputs": [
    {
     "name": "stdout",
     "output_type": "stream",
     "text": [
      "1\n",
      "6\n",
      "5\n",
      "10\n",
      "20\n",
      "35\n",
      "40\n",
      "30\n",
      "60\n",
      "90\n",
      "80\n",
      "70\n",
      "50\n"
     ]
    }
   ],
   "source": [
    "post_iter(r)"
   ]
  },
  {
   "cell_type": "markdown",
   "metadata": {},
   "source": [
    "# Two Trees are identical ---- https://leetcode.com/problems/same-tree/"
   ]
  },
  {
   "cell_type": "markdown",
   "metadata": {},
   "source": [
    "# Level order Traversal"
   ]
  },
  {
   "cell_type": "code",
   "execution_count": 24,
   "metadata": {},
   "outputs": [],
   "source": [
    "def level_order(root):\n",
    "    if not root:\n",
    "        return False\n",
    "    q = []\n",
    "    q.append(root)\n",
    "    while q:\n",
    "        pop = q.pop(0)\n",
    "        print(pop.val)\n",
    "        if pop.left:\n",
    "            q.append(pop.left)\n",
    "        if pop.right:\n",
    "            q.append(pop.right)    "
   ]
  },
  {
   "cell_type": "code",
   "execution_count": 5,
   "metadata": {},
   "outputs": [
    {
     "name": "stdout",
     "output_type": "stream",
     "text": [
      "50\n",
      "30\n",
      "70\n",
      "20\n",
      "40\n",
      "60\n",
      "80\n",
      "10\n",
      "35\n",
      "90\n",
      "5\n",
      "1\n",
      "6\n"
     ]
    }
   ],
   "source": [
    "level_order(r)"
   ]
  },
  {
   "cell_type": "markdown",
   "metadata": {},
   "source": [
    "# Spiral Order Traversal"
   ]
  },
  {
   "cell_type": "code",
   "execution_count": 8,
   "metadata": {},
   "outputs": [],
   "source": [
    "def spiral(root):\n",
    "    stk1 = []\n",
    "    stk2 = []\n",
    "    stk1.append(root)\n",
    "    while stk1 or stk2:\n",
    "        while len(stk1)>0:\n",
    "            pop = stk1.pop()\n",
    "            print(pop.val)\n",
    "            if pop.right:\n",
    "                stk2.append(pop.right)\n",
    "            if pop.left:\n",
    "                stk2.append(pop.left)\n",
    "        while len(stk2)>0:\n",
    "            pop = stk2.pop()\n",
    "            print(pop.val)\n",
    "            if pop.left:\n",
    "                stk1.append(pop.left)\n",
    "            if pop.right:\n",
    "                stk1.append(pop.right)"
   ]
  },
  {
   "cell_type": "code",
   "execution_count": 9,
   "metadata": {},
   "outputs": [
    {
     "name": "stdout",
     "output_type": "stream",
     "text": [
      "50\n",
      "30\n",
      "70\n",
      "80\n",
      "60\n",
      "40\n",
      "20\n",
      "10\n",
      "35\n",
      "90\n",
      "5\n",
      "1\n",
      "6\n"
     ]
    }
   ],
   "source": [
    "spiral(r)"
   ]
  },
  {
   "cell_type": "markdown",
   "metadata": {},
   "source": [
    "# Mirror of Binary Tree"
   ]
  },
  {
   "cell_type": "code",
   "execution_count": 10,
   "metadata": {},
   "outputs": [],
   "source": [
    "def mirror(root):\n",
    "    q = []\n",
    "    q.append(root)\n",
    "    while q:\n",
    "        pop = q.pop(0)\n",
    "        pop.left,pop.right = pop.right,pop.left\n",
    "        if pop.left:\n",
    "            q.append(pop.left)\n",
    "        if pop.right:\n",
    "            q.append(pop.right)"
   ]
  },
  {
   "cell_type": "code",
   "execution_count": 11,
   "metadata": {},
   "outputs": [],
   "source": [
    "mirror(r)"
   ]
  },
  {
   "cell_type": "code",
   "execution_count": 12,
   "metadata": {},
   "outputs": [
    {
     "name": "stdout",
     "output_type": "stream",
     "text": [
      "50\n",
      "70\n",
      "30\n",
      "80\n",
      "60\n",
      "40\n",
      "20\n",
      "90\n",
      "35\n",
      "10\n",
      "5\n",
      "6\n",
      "1\n"
     ]
    }
   ],
   "source": [
    "level_order(r)"
   ]
  },
  {
   "cell_type": "markdown",
   "metadata": {},
   "source": [
    "# Ancestors of given node in Binary Tree"
   ]
  },
  {
   "cell_type": "code",
   "execution_count": 31,
   "metadata": {},
   "outputs": [],
   "source": [
    "def anci(root, num):\n",
    "    stk = []\n",
    "    stk1 = []\n",
    "    while True:\n",
    "        while root:\n",
    "            if root.val==num:\n",
    "                return stk1\n",
    "            if root.right:\n",
    "                stk.append(root.right)\n",
    "            stk1.append(root)\n",
    "            stk.append(root)\n",
    "            root = root.left\n",
    "        root = stk.pop()\n",
    "        if root.right and stk[-1] == root.right:\n",
    "            stk.pop()\n",
    "            stk.append(root)\n",
    "            root = root.right\n",
    "        else:\n",
    "            stk1.pop()\n",
    "            root = None"
   ]
  },
  {
   "cell_type": "code",
   "execution_count": 37,
   "metadata": {},
   "outputs": [
    {
     "data": {
      "text/plain": [
       "[50, 30]"
      ]
     },
     "execution_count": 37,
     "metadata": {},
     "output_type": "execute_result"
    }
   ],
   "source": [
    "[i.val for i in anci(r,40)]"
   ]
  },
  {
   "cell_type": "markdown",
   "metadata": {},
   "source": [
    "#### Recursive approach"
   ]
  },
  {
   "cell_type": "code",
   "execution_count": 105,
   "metadata": {},
   "outputs": [],
   "source": [
    "def rec_anci(root, num):\n",
    "    if not root:\n",
    "        return False\n",
    "    if root.val==num:\n",
    "        return True\n",
    "    if rec_anci(root.left,num) or rec_anci(root.right, num):\n",
    "        print(root.val)\n",
    "        return True\n",
    "    return False"
   ]
  },
  {
   "cell_type": "code",
   "execution_count": 107,
   "metadata": {},
   "outputs": [
    {
     "name": "stdout",
     "output_type": "stream",
     "text": [
      "5\n",
      "10\n",
      "20\n",
      "30\n",
      "50\n"
     ]
    },
    {
     "data": {
      "text/plain": [
       "True"
      ]
     },
     "execution_count": 107,
     "metadata": {},
     "output_type": "execute_result"
    }
   ],
   "source": [
    "rec_anci(r, 6)"
   ]
  },
  {
   "cell_type": "markdown",
   "metadata": {},
   "source": [
    "# Lowest Common Ancestor"
   ]
  },
  {
   "cell_type": "code",
   "execution_count": 43,
   "metadata": {},
   "outputs": [],
   "source": [
    "def LCA(root,val1,val2):\n",
    "    if val1>root.val and val2>root.val:\n",
    "        LCA(root.right,val1,val2)\n",
    "    elif val1<root.val and val2<root.val:\n",
    "        LCA(root.left,val1,val2)\n",
    "    else:\n",
    "        lca = root\n",
    "        root1 = root\n",
    "        root2 = root\n",
    "        found1 = False\n",
    "        found2 = False        \n",
    "        while root1:\n",
    "            if val1>root1.val:\n",
    "                root1 = root1.right\n",
    "            elif val1<root1.val:\n",
    "                root1 = root1.left\n",
    "            else:\n",
    "                found1 = True\n",
    "                break\n",
    "        while root2:\n",
    "            if val2>root2.val:\n",
    "                root2 = root2.right\n",
    "            elif val2<root2.val:\n",
    "                root2 = root2.left\n",
    "            else:\n",
    "                found2 = True\n",
    "                break\n",
    "        if found1 and found2:\n",
    "            return lca"
   ]
  },
  {
   "cell_type": "code",
   "execution_count": 45,
   "metadata": {},
   "outputs": [],
   "source": [
    "LCA(r, 1,5)"
   ]
  },
  {
   "cell_type": "markdown",
   "metadata": {},
   "source": [
    "# Check for Sum Tree property in Binary Tree"
   ]
  },
  {
   "cell_type": "code",
   "execution_count": 4,
   "metadata": {},
   "outputs": [],
   "source": [
    "def sum_tree(root):\n",
    "    stk = []\n",
    "    sum_1 = 0\n",
    "    sum_2 = 0\n",
    "    while True:\n",
    "        while root:\n",
    "            if root.right:\n",
    "                stk.append(root.right)\n",
    "            stk.append(root)\n",
    "            root = root.left\n",
    "        root = stk.pop()\n",
    "        if not stk:\n",
    "            return True\n",
    "        if root.right and stk[-1] == root.right:\n",
    "            sum_2 = stk[-1].val\n",
    "            stk.pop()\n",
    "            if sum_1+sum_2!=root.val:\n",
    "                return False\n",
    "            sum_1 = 0\n",
    "            sum_2 = 0\n",
    "            stk.append(root)\n",
    "            root = root.right\n",
    "        elif (not root.left and root.right) or (root.left and not root.right):\n",
    "            if root.val!=sum_1:\n",
    "                return False\n",
    "            sum_1 = root.val\n",
    "            root = None\n",
    "        else:\n",
    "            sum_1 = root.val\n",
    "            root = None"
   ]
  },
  {
   "cell_type": "code",
   "execution_count": 5,
   "metadata": {},
   "outputs": [
    {
     "name": "stdout",
     "output_type": "stream",
     "text": [
      "True\n"
     ]
    }
   ],
   "source": [
    "root = Node(10)  \n",
    "root.left = Node(8)  \n",
    "root.right = Node(2)  \n",
    "root.left.left = Node(3)  \n",
    "root.left.right = Node(5)  \n",
    "root.right.right = Node(2) \n",
    "\n",
    "print(sum_tree(root))"
   ]
  },
  {
   "cell_type": "code",
   "execution_count": 11,
   "metadata": {},
   "outputs": [],
   "source": [
    "def sum_tree_rec(root):\n",
    "    if not root or (not root.left and not root.right):\n",
    "        return True\n",
    "    l=0\n",
    "    r=0\n",
    "    if root.left:\n",
    "        l = root.left.val\n",
    "    if root.right:\n",
    "        r = root.right.val\n",
    "    if root.val == l+r and sum_tree_rec(root.left) and sum_tree_rec(root.right):\n",
    "        return True\n",
    "    else:        \n",
    "        return False"
   ]
  },
  {
   "cell_type": "code",
   "execution_count": 12,
   "metadata": {},
   "outputs": [
    {
     "data": {
      "text/plain": [
       "True"
      ]
     },
     "execution_count": 12,
     "metadata": {},
     "output_type": "execute_result"
    }
   ],
   "source": [
    "sum_tree_rec(root)"
   ]
  },
  {
   "cell_type": "markdown",
   "metadata": {},
   "source": [
    "# Count leaf nodes in binary tree"
   ]
  },
  {
   "cell_type": "code",
   "execution_count": 4,
   "metadata": {},
   "outputs": [],
   "source": [
    "def cnt_lf_nodes(root):\n",
    "    stk = []\n",
    "    cnt = 0\n",
    "    while True:\n",
    "        while root:\n",
    "            stk.append(root)\n",
    "            root = root.left\n",
    "        if not stk:\n",
    "            return cnt\n",
    "        root = stk.pop()\n",
    "        if not root.left and not root.right:\n",
    "            cnt+=1\n",
    "        root = root.right"
   ]
  },
  {
   "cell_type": "code",
   "execution_count": 5,
   "metadata": {},
   "outputs": [
    {
     "data": {
      "text/plain": [
       "5"
      ]
     },
     "execution_count": 5,
     "metadata": {},
     "output_type": "execute_result"
    }
   ],
   "source": [
    "cnt_lf_nodes(r)"
   ]
  },
  {
   "cell_type": "markdown",
   "metadata": {},
   "source": [
    "Recursion"
   ]
  },
  {
   "cell_type": "code",
   "execution_count": 25,
   "metadata": {},
   "outputs": [],
   "source": [
    "def cnt_lf_nodes_rec(root):\n",
    "    if not root:\n",
    "        return 0    \n",
    "    if not root.left and not root.right:\n",
    "        return 1\n",
    "    return cnt_lf_nodes_rec(root.left) + cnt_lf_nodes_rec(root.right)"
   ]
  },
  {
   "cell_type": "code",
   "execution_count": 28,
   "metadata": {},
   "outputs": [
    {
     "data": {
      "text/plain": [
       "5"
      ]
     },
     "execution_count": 28,
     "metadata": {},
     "output_type": "execute_result"
    }
   ],
   "source": [
    "cnt_lf_nodes_rec(r)"
   ]
  },
  {
   "cell_type": "markdown",
   "metadata": {},
   "source": [
    "# Convert binary Tree to sum Tree"
   ]
  },
  {
   "cell_type": "markdown",
   "metadata": {},
   "source": [
    "make roots as zero"
   ]
  },
  {
   "cell_type": "code",
   "execution_count": 98,
   "metadata": {},
   "outputs": [],
   "source": [
    "def b2sTree(root):\n",
    "    if not root:\n",
    "        return 0\n",
    "    l = b2sTree(root.left)\n",
    "    r = b2sTree(root.right)\n",
    "    v = root.val\n",
    "    root.val = l+r\n",
    "    print(v, root.val)\n",
    "    return l+r+v"
   ]
  },
  {
   "cell_type": "code",
   "execution_count": 99,
   "metadata": {},
   "outputs": [
    {
     "name": "stdout",
     "output_type": "stream",
     "text": [
      "20 0\n",
      "40 0\n",
      "30 60\n",
      "70 0\n",
      "50 160\n"
     ]
    },
    {
     "data": {
      "text/plain": [
       "210"
      ]
     },
     "execution_count": 99,
     "metadata": {},
     "output_type": "execute_result"
    }
   ],
   "source": [
    "b2sTree(r)"
   ]
  },
  {
   "cell_type": "markdown",
   "metadata": {},
   "source": [
    "leave roots as is"
   ]
  },
  {
   "cell_type": "code",
   "execution_count": 93,
   "metadata": {},
   "outputs": [],
   "source": [
    "def b2sTree1(root):\n",
    "    if not root:\n",
    "        return 0\n",
    "    l = b2sTree1(root.left)\n",
    "    r = b2sTree1(root.right)\n",
    "    v = root.val\n",
    "    if root.left or root.right:\n",
    "        root.val = l+r\n",
    "    return l+r+v"
   ]
  },
  {
   "cell_type": "code",
   "execution_count": 94,
   "metadata": {},
   "outputs": [
    {
     "name": "stdout",
     "output_type": "stream",
     "text": [
      "30 60\n",
      "50 160\n"
     ]
    },
    {
     "data": {
      "text/plain": [
       "210"
      ]
     },
     "execution_count": 94,
     "metadata": {},
     "output_type": "execute_result"
    }
   ],
   "source": [
    "b2sTree1(r)"
   ]
  },
  {
   "cell_type": "markdown",
   "metadata": {},
   "source": [
    "# Find max root to leaf path"
   ]
  },
  {
   "cell_type": "code",
   "execution_count": 7,
   "metadata": {},
   "outputs": [],
   "source": [
    "def max_path(root):\n",
    "    stk = []\n",
    "    maxi = 0\n",
    "    cnt = 0\n",
    "    while True:\n",
    "        while root:\n",
    "            if root.right:\n",
    "                stk.append(root.right)\n",
    "            stk.append(root)\n",
    "            cnt+=root.val\n",
    "            root = root.left\n",
    "        root = stk.pop()\n",
    "        if not stk:\n",
    "            return maxi\n",
    "        if not root.right and not root.left:\n",
    "            maxi = max(maxi,cnt)\n",
    "            cnt-=root.val\n",
    "            root =None\n",
    "        elif root.right and stk[-1]==root.right:\n",
    "            stk.pop()\n",
    "            stk.append(root)\n",
    "            root = root.right\n",
    "        else:\n",
    "            cnt-=root.val\n",
    "            root = None"
   ]
  },
  {
   "cell_type": "code",
   "execution_count": 8,
   "metadata": {},
   "outputs": [
    {
     "data": {
      "text/plain": [
       "365"
      ]
     },
     "execution_count": 8,
     "metadata": {},
     "output_type": "execute_result"
    }
   ],
   "source": [
    "max_path(r)"
   ]
  },
  {
   "cell_type": "markdown",
   "metadata": {},
   "source": [
    "Recursive"
   ]
  },
  {
   "cell_type": "code",
   "execution_count": 13,
   "metadata": {},
   "outputs": [],
   "source": [
    "maxi=-1\n",
    "def max_path_rec(root, cnt): \n",
    "    global maxi  \n",
    "    if not root:  \n",
    "        return 0    \n",
    "    if not root.left and not root.right:  \n",
    "        maxi = max(cnt+root.val, maxi)  \n",
    "    cnt+=root.val  \n",
    "    max_path_rec(root.left, cnt)  \n",
    "    max_path_rec(root.right, cnt)   "
   ]
  },
  {
   "cell_type": "code",
   "execution_count": 14,
   "metadata": {},
   "outputs": [
    {
     "name": "stdout",
     "output_type": "stream",
     "text": [
      "365\n"
     ]
    }
   ],
   "source": [
    "max_path_rec(r,0)\n",
    "print(maxi)"
   ]
  },
  {
   "cell_type": "markdown",
   "metadata": {},
   "source": [
    "# Find maximum depth of binary Tree"
   ]
  },
  {
   "cell_type": "markdown",
   "metadata": {},
   "source": [
    "recursion"
   ]
  },
  {
   "cell_type": "code",
   "execution_count": 64,
   "metadata": {},
   "outputs": [],
   "source": [
    "def length(root):\n",
    "    if not root:\n",
    "        return 0\n",
    "    l = length(root.left)\n",
    "    r = length(root.right)\n",
    "    return max(l,r)+1"
   ]
  },
  {
   "cell_type": "code",
   "execution_count": 23,
   "metadata": {},
   "outputs": [
    {
     "data": {
      "text/plain": [
       "-1"
      ]
     },
     "execution_count": 23,
     "metadata": {},
     "output_type": "execute_result"
    }
   ],
   "source": [
    "maxi1"
   ]
  },
  {
   "cell_type": "markdown",
   "metadata": {},
   "source": [
    "iterative"
   ]
  },
  {
   "cell_type": "code",
   "execution_count": 65,
   "metadata": {},
   "outputs": [],
   "source": [
    "def length_iter(root):\n",
    "    if not root:\n",
    "        return 0\n",
    "    stk = []\n",
    "    cnt = 0\n",
    "    maxi = -10\n",
    "    while True:\n",
    "        while root:\n",
    "            if root.right:\n",
    "                stk.append(root.right)\n",
    "            stk.append(root)\n",
    "            cnt+=1\n",
    "            root = root.left\n",
    "        root = stk.pop()\n",
    "        if not stk:\n",
    "            return maxi\n",
    "        if root.right and stk[-1]==root.right:\n",
    "            stk.pop()\n",
    "            stk.append(root)\n",
    "            root = root.right\n",
    "        elif not root.right and not root.left:\n",
    "            maxi = max(maxi,cnt)\n",
    "            cnt-=1\n",
    "            root = None\n",
    "        else:\n",
    "            cnt-=1\n",
    "            root = None"
   ]
  },
  {
   "cell_type": "code",
   "execution_count": 66,
   "metadata": {},
   "outputs": [
    {
     "data": {
      "text/plain": [
       "6"
      ]
     },
     "execution_count": 66,
     "metadata": {},
     "output_type": "execute_result"
    }
   ],
   "source": [
    "length_iter(r)"
   ]
  },
  {
   "cell_type": "code",
   "execution_count": 67,
   "metadata": {},
   "outputs": [
    {
     "data": {
      "text/plain": [
       "6"
      ]
     },
     "execution_count": 67,
     "metadata": {},
     "output_type": "execute_result"
    }
   ],
   "source": [
    "length(r)"
   ]
  },
  {
   "cell_type": "markdown",
   "metadata": {},
   "source": [
    "Experiment"
   ]
  },
  {
   "cell_type": "code",
   "execution_count": 28,
   "metadata": {},
   "outputs": [],
   "source": [
    "maxi1=-1\n",
    "def lenj(root, cnt):\n",
    "    global maxi1\n",
    "    if not root:\n",
    "        return 0    \n",
    "    if not root.left and not root.right:\n",
    "        maxi1 = max(cnt+1, maxi1)\n",
    "    cnt+=1   \n",
    "    lenj(root.left, cnt)\n",
    "    lenj(root.right, cnt)    "
   ]
  },
  {
   "cell_type": "code",
   "execution_count": 29,
   "metadata": {},
   "outputs": [
    {
     "name": "stdout",
     "output_type": "stream",
     "text": [
      "6\n"
     ]
    }
   ],
   "source": [
    "lenj(r,0)\n",
    "print(maxi1)"
   ]
  },
  {
   "cell_type": "markdown",
   "metadata": {},
   "source": [
    "# Diameter of binary Tree"
   ]
  },
  {
   "cell_type": "code",
   "execution_count": 78,
   "metadata": {},
   "outputs": [],
   "source": [
    "def diameter(root,diam):\n",
    "    if not root:\n",
    "        return 0\n",
    "    leng = length_iter(root.left) + length_iter(root.right) - 1\n",
    "    diam = max(diam,leng+2)\n",
    "    diameter(root.left,diam)\n",
    "    diameter(root.right,diam)\n",
    "    return diam   "
   ]
  },
  {
   "cell_type": "code",
   "execution_count": 79,
   "metadata": {},
   "outputs": [
    {
     "data": {
      "text/plain": [
       "9"
      ]
     },
     "execution_count": 79,
     "metadata": {},
     "output_type": "execute_result"
    }
   ],
   "source": [
    "diameter(r,-10) "
   ]
  },
  {
   "cell_type": "markdown",
   "metadata": {},
   "source": [
    "# Vertical Traversal of Binary Tree"
   ]
  },
  {
   "cell_type": "code",
   "execution_count": 41,
   "metadata": {},
   "outputs": [],
   "source": [
    "def ver_tra(root):\n",
    "    cnt = 0\n",
    "    stk = []\n",
    "    dic = {}\n",
    "    while True:\n",
    "        while root:\n",
    "            if root.right:\n",
    "                stk.append(root.right)\n",
    "            stk.append(root)\n",
    "            if not dic.get(root):\n",
    "                dic[root.val] = cnt\n",
    "            cnt-=1\n",
    "            root = root.left\n",
    "        root = stk.pop()\n",
    "        if not stk:\n",
    "            return sorted(dic.items(), key=lambda t: t[1])\n",
    "        if root.right and stk[-1]==root.right:\n",
    "            stk.pop()\n",
    "            stk.append(root)\n",
    "            cnt= dic[root.val]+1\n",
    "            root = root.right            \n",
    "        else:\n",
    "            cnt= dic[root.val]+1\n",
    "            root = None        "
   ]
  },
  {
   "cell_type": "code",
   "execution_count": 42,
   "metadata": {},
   "outputs": [
    {
     "data": {
      "text/plain": [
       "[(1, -5),\n",
       " (5, -4),\n",
       " (10, -3),\n",
       " (6, -3),\n",
       " (20, -2),\n",
       " (30, -1),\n",
       " (35, -1),\n",
       " (50, 0),\n",
       " (40, 0),\n",
       " (60, 0),\n",
       " (70, 1),\n",
       " (75, 2),\n",
       " (80, 3),\n",
       " (89, 3),\n",
       " (90, 4)]"
      ]
     },
     "execution_count": 42,
     "metadata": {},
     "output_type": "execute_result"
    }
   ],
   "source": [
    "ver_tra(r)"
   ]
  },
  {
   "cell_type": "markdown",
   "metadata": {},
   "source": [
    "Recursion"
   ]
  },
  {
   "cell_type": "code",
   "execution_count": 43,
   "metadata": {},
   "outputs": [],
   "source": [
    "def ver_trav(root,cnt):\n",
    "    global dic\n",
    "    if not root:\n",
    "        return None\n",
    "    if not dic.get(root):\n",
    "        dic[root]=cnt\n",
    "    ver_trav(root.left, cnt-1)\n",
    "    ver_trav(root.right, cnt+1)\n"
   ]
  },
  {
   "cell_type": "code",
   "execution_count": 44,
   "metadata": {},
   "outputs": [
    {
     "name": "stdout",
     "output_type": "stream",
     "text": [
      "1 -5\n",
      "5 -4\n",
      "10 -3\n",
      "6 -3\n",
      "20 -2\n",
      "30 -1\n",
      "35 -1\n",
      "50 0\n",
      "40 0\n",
      "60 0\n",
      "70 1\n",
      "75 2\n",
      "80 3\n",
      "89 3\n",
      "90 4\n"
     ]
    }
   ],
   "source": [
    "dic = {}\n",
    "ver_trav(r,0)\n",
    "dic = sorted(dic.items(), key = lambda x:x[1])\n",
    "for i in dic:\n",
    "    print(i[0].val,i[1])"
   ]
  },
  {
   "cell_type": "markdown",
   "metadata": {},
   "source": [
    "# Boundary Traversal of binary Tree"
   ]
  },
  {
   "cell_type": "code",
   "execution_count": 69,
   "metadata": {},
   "outputs": [],
   "source": [
    "def boundary_trav(root):\n",
    "    stk = []\n",
    "    L = []\n",
    "    R = []\n",
    "    leaf = []\n",
    "    L.append(root)\n",
    "    print(root.val)\n",
    "    if root.right:\n",
    "        R.append(root.right)\n",
    "    while True:\n",
    "        while root:\n",
    "            if root in L:\n",
    "                if root.left:\n",
    "                    print(root.left.val)\n",
    "                    L.append(root.left)\n",
    "                elif not root.left and root.right:\n",
    "                    print(root.right.val)\n",
    "                    L.append(root.right)\n",
    "            if root in R:\n",
    "                if root.right:\n",
    "                    print(root.right.val)\n",
    "                    R.append(root.right)\n",
    "                elif not root.right and root.left:\n",
    "                    print(root.left.val)\n",
    "                    R.append(root.left)\n",
    "            if not root.right and not root.left and root not in L and root not in R:\n",
    "                print(root.val)\n",
    "                leaf.append(root)\n",
    "            stk.append(root)\n",
    "            root = root.left\n",
    "        if not stk:\n",
    "            return L,leaf,R\n",
    "        root = stk.pop()\n",
    "        root = root.right\n",
    "            "
   ]
  },
  {
   "cell_type": "code",
   "execution_count": 71,
   "metadata": {},
   "outputs": [
    {
     "name": "stdout",
     "output_type": "stream",
     "text": [
      "50\n",
      "30\n",
      "20\n",
      "10\n",
      "5\n",
      "1\n",
      "6\n",
      "35\n",
      "75\n",
      "60\n",
      "80\n",
      "90\n",
      "89\n",
      "====================\n",
      "[50, 30, 20, 10, 5, 1]\n",
      "[6, 35, 60]\n",
      "[89, 90, 80, 75, 70]\n"
     ]
    }
   ],
   "source": [
    "L,leaf,R = boundary_trav(r)\n",
    "print(\"====================\")\n",
    "print([i.val for i in L])\n",
    "print([i.val for i in leaf])\n",
    "print([i.val for i in R[::-1]])"
   ]
  },
  {
   "cell_type": "markdown",
   "metadata": {},
   "source": [
    "# Merge two trees ----> https://leetcode.com/submissions/detail/414576086/"
   ]
  },
  {
   "cell_type": "markdown",
   "metadata": {},
   "source": [
    "# Trim binary search tree -- https://leetcode.com/problems/trim-a-binary-search-tree/submissions/"
   ]
  },
  {
   "cell_type": "markdown",
   "metadata": {},
   "source": [
    "# Search in BST and return sub tree ---> https://leetcode.com/problems/search-in-a-binary-search-tree/"
   ]
  },
  {
   "cell_type": "code",
   "execution_count": null,
   "metadata": {},
   "outputs": [],
   "source": []
  }
 ],
 "metadata": {
  "kernelspec": {
   "display_name": "Python 3",
   "language": "python",
   "name": "python3"
  },
  "language_info": {
   "codemirror_mode": {
    "name": "ipython",
    "version": 3
   },
   "file_extension": ".py",
   "mimetype": "text/x-python",
   "name": "python",
   "nbconvert_exporter": "python",
   "pygments_lexer": "ipython3",
   "version": "3.6.5"
  }
 },
 "nbformat": 4,
 "nbformat_minor": 2
}
